{
 "cells": [
  {
   "cell_type": "code",
   "execution_count": 1,
   "metadata": {},
   "outputs": [],
   "source": [
    "import pandas as pd\n",
    "from sqlalchemy import create_engine\n",
    "import os"
   ]
  },
  {
   "cell_type": "code",
   "execution_count": 2,
   "metadata": {},
   "outputs": [],
   "source": [
    "current_dir=os.getcwd()\n",
    "project_root= os.path.abspath(os.path.join(current_dir,'..'))\n",
    "data_dir=os.path.join(project_root,'data')\n",
    "csv_filepath = os.path.join(data_dir,'Crime_chicago.csv')\n",
    "db_filepath = os.path.join(data_dir,'Crime.db')\n",
    "table_name = 'Chicago'"
   ]
  },
  {
   "cell_type": "code",
   "execution_count": 3,
   "metadata": {},
   "outputs": [
    {
     "name": "stdout",
     "output_type": "stream",
     "text": [
      "Table Chicago créé dans /Users/hamadoundoucoure/Documents/GitHub Project/Data-Analyse-Project/Big query Chicago Crime/data/Crime.db\n"
     ]
    }
   ],
   "source": [
    "df = pd.read_csv(csv_filepath)\n",
    "engine = create_engine(f'sqlite:///{db_filepath}')\n",
    "df.to_sql(table_name, con=engine, if_exists=\"replace\", index=False)\n",
    "print(f'Table {table_name} créé dans {db_filepath}')"
   ]
  }
 ],
 "metadata": {
  "kernelspec": {
   "display_name": "base",
   "language": "python",
   "name": "python3"
  },
  "language_info": {
   "codemirror_mode": {
    "name": "ipython",
    "version": 3
   },
   "file_extension": ".py",
   "mimetype": "text/x-python",
   "name": "python",
   "nbconvert_exporter": "python",
   "pygments_lexer": "ipython3",
   "version": "3.9.13"
  }
 },
 "nbformat": 4,
 "nbformat_minor": 2
}
